{
 "cells": [
  {
   "cell_type": "code",
   "execution_count": 3,
   "metadata": {
    "collapsed": false
   },
   "outputs": [],
   "source": [
    "%matplotlib inline\n",
    "import matplotlib.pyplot as plt\n",
    "import numpy as np\n",
    "print('Libraries Imported')"
   ]
  },
  {
   "cell_type": "markdown",
   "metadata": {},
   "source": [
    "# Lambda Functions"
   ]
  },
  {
   "cell_type": "code",
   "execution_count": 15,
   "metadata": {
    "collapsed": false
   },
   "outputs": [
    {
     "name": "stdout",
     "output_type": "stream",
     "text": [
      "50 50\n"
     ]
    }
   ],
   "source": [
    "numlambda = lambda x,y: (y - x) // 2\n",
    "\n",
    "def numfun(x,y):\n",
    "    return (y - x) // 2\n",
    "\n",
    "print(numlambda(0,100), numfun(0,100))"
   ]
  },
  {
   "cell_type": "markdown",
   "metadata": {},
   "source": [
    "# List Comprehension"
   ]
  },
  {
   "cell_type": "code",
   "execution_count": 29,
   "metadata": {
    "collapsed": false
   },
   "outputs": [
    {
     "name": "stdout",
     "output_type": "stream",
     "text": [
      "[0, 1, 2, 3, 4, 5, 6, 7, 8, 9]\n"
     ]
    }
   ],
   "source": [
    "x = [i for i in range(10)]\n",
    "# x = []\n",
    "# for i in range(10):\n",
    "#     x.append(i)\n",
    "\n",
    "print(x)"
   ]
  },
  {
   "cell_type": "code",
   "execution_count": 30,
   "metadata": {
    "collapsed": false
   },
   "outputs": [
    {
     "name": "stdout",
     "output_type": "stream",
     "text": [
      "[-3, -1, 1, 3, 5, 7, 9, 11, 13, 15]\n"
     ]
    }
   ],
   "source": [
    "y = [val*2 - 3 for val in x]\n",
    "# y = []\n",
    "# for val in x:\n",
    "#     y.append(val*2 - 3)\n",
    "\n",
    "print(y)"
   ]
  },
  {
   "cell_type": "code",
   "execution_count": 31,
   "metadata": {
    "collapsed": false
   },
   "outputs": [
    {
     "name": "stdout",
     "output_type": "stream",
     "text": [
      "[1, 9, 25, 49, 81, 121, 169, 225]\n"
     ]
    }
   ],
   "source": [
    "z = [val**2 for val in y if val > 0]\n",
    "# z = []\n",
    "# for val in y:\n",
    "#     if val > 0:\n",
    "#         z.append(val**2)\n",
    "\n",
    "print(z)"
   ]
  },
  {
   "cell_type": "code",
   "execution_count": 34,
   "metadata": {
    "collapsed": false
   },
   "outputs": [
    {
     "name": "stdout",
     "output_type": "stream",
     "text": [
      "[0, 9, 0, 0, 81, 0, 0, 225]\n"
     ]
    }
   ],
   "source": [
    "umm = [val if val % 3 == 0 else 0 for val in z]\n",
    "# umm = []\n",
    "# for val in z:\n",
    "#     if val % 3 == 0:\n",
    "#         umm.append(val)\n",
    "#     else:\n",
    "#         umm.append(0)\n",
    "\n",
    "print(umm)"
   ]
  },
  {
   "cell_type": "code",
   "execution_count": 70,
   "metadata": {
    "collapsed": false
   },
   "outputs": [
    {
     "name": "stdout",
     "output_type": "stream",
     "text": [
      "[1, 2, 3, 4, 5, 6, 7, 8, 9, 2, 4, 6, 8, 10, 12, 14, 16, 18, 3, 6, 9, 12, 15, 18, 21, 24, 27, 4, 8, 12, 16, 20, 24, 28, 32, 36, 5, 10, 15, 20, 25, 30, 35, 40, 45, 6, 12, 18, 24, 30, 36, 42, 48, 54, 7, 14, 21, 28, 35, 42, 49, 56, 63, 8, 16, 24, 32, 40, 48, 56, 64, 72, 9, 18, 27, 36, 45, 54, 63, 72, 81]\n"
     ]
    }
   ],
   "source": [
    "a = [x0 * x1 for x0 in x for x1 in x if x0 and x1 != 0]\n",
    "# a = []\n",
    "# for x1 in x:\n",
    "#     for x0 in x:\n",
    "#         if x0 and x1 != 0:\n",
    "#             a.append(x0 * x1)\n",
    "print(a)"
   ]
  },
  {
   "cell_type": "code",
   "execution_count": 75,
   "metadata": {
    "collapsed": false
   },
   "outputs": [
    {
     "name": "stdout",
     "output_type": "stream",
     "text": [
      "[[1, 2, 3, 4, 5, 6, 7, 8, 9], [2, 4, 6, 8, 10, 12, 14, 16, 18], [3, 6, 9, 12, 15, 18, 21, 24, 27], [4, 8, 12, 16, 20, 24, 28, 32, 36], [5, 10, 15, 20, 25, 30, 35, 40, 45], [6, 12, 18, 24, 30, 36, 42, 48, 54], [7, 14, 21, 28, 35, 42, 49, 56, 63], [8, 16, 24, 32, 40, 48, 56, 64, 72], [9, 18, 27, 36, 45, 54, 63, 72, 81]]\n"
     ]
    }
   ],
   "source": [
    "b = [[x0 * x1 for x0 in x if x0 != 0] for x1 in x if x1 != 0]\n",
    "# b = []\n",
    "# for x0 in x:\n",
    "#     bsub = []\n",
    "#     if x0 != 0:\n",
    "#         for x1 in x:\n",
    "#             if x0 and x1 != 0:\n",
    "#                 bsub.append(x0 * x1)\n",
    "#         b.append(bsub)\n",
    "\n",
    "print(b)"
   ]
  },
  {
   "cell_type": "code",
   "execution_count": 76,
   "metadata": {
    "collapsed": false
   },
   "outputs": [
    {
     "name": "stdout",
     "output_type": "stream",
     "text": [
      "[1, 2, 3, 4, 5, 6, 7, 8, 9]\n",
      "[2, 4, 6, 8, 10, 12, 14, 16, 18]\n",
      "[3, 6, 9, 12, 15, 18, 21, 24, 27]\n",
      "[4, 8, 12, 16, 20, 24, 28, 32, 36]\n",
      "[5, 10, 15, 20, 25, 30, 35, 40, 45]\n",
      "[6, 12, 18, 24, 30, 36, 42, 48, 54]\n",
      "[7, 14, 21, 28, 35, 42, 49, 56, 63]\n",
      "[8, 16, 24, 32, 40, 48, 56, 64, 72]\n",
      "[9, 18, 27, 36, 45, 54, 63, 72, 81]\n"
     ]
    }
   ],
   "source": [
    "print(*b, sep='\\n')"
   ]
  },
  {
   "cell_type": "markdown",
   "metadata": {},
   "source": [
    "# Simple Guesssing Game\n",
    "\n",
    "Click the cell and press Ctrl-Enter to play the game."
   ]
  },
  {
   "cell_type": "code",
   "execution_count": 181,
   "metadata": {
    "collapsed": false
   },
   "outputs": [
    {
     "name": "stdout",
     "output_type": "stream",
     "text": [
      "I'm thinking of a number between 0 and 100.\n",
      "Guess the number: 50\n",
      "Higher.\n",
      "Guess the number: 75\n",
      "Lower.\n",
      "Guess the number: 60\n",
      "Higher.\n",
      "Guess the number: 65\n",
      "Higher.\n",
      "Guess the number: 67\n",
      "Higher.\n",
      "Guess the number: 68\n",
      "Higher.\n",
      "Guess the number: 69\n",
      "Higher.\n",
      "Guess the number: 70\n",
      "Higher.\n",
      "Guess the number: 73\n",
      "Lower.\n",
      "Guess the number: 72\n",
      "Congratulations! You got it! Tries needed: 10\n"
     ]
    }
   ],
   "source": [
    "# %load ../python101/guess.py\n",
    "from numpy.random import randint\n",
    "\n",
    "start = 0\n",
    "end = 100\n",
    "value = randint(start, end)\n",
    "\n",
    "print(\"I'm thinking of a number between {} and {}.\".format(start, end))\n",
    "\n",
    "guess = -1\n",
    "counter = 0\n",
    "while guess != value:\n",
    "    guessStr = input('Guess the number: ')\n",
    "    if not guessStr.isdigit():\n",
    "        print('Whoops! Make sure input is a number in the range specified')\n",
    "        continue\n",
    "\n",
    "    guess = int(guessStr)\n",
    "\n",
    "    if guess < value:\n",
    "        print('Higher.')\n",
    "    elif guess > value:\n",
    "        print('Lower.')\n",
    "    counter += 1\n",
    "\n",
    "print('Congratulations! You got it! Tries needed:', counter)"
   ]
  },
  {
   "cell_type": "markdown",
   "metadata": {},
   "source": [
    "# Remaking the Game"
   ]
  },
  {
   "cell_type": "code",
   "execution_count": 184,
   "metadata": {
    "collapsed": false
   },
   "outputs": [
    {
     "name": "stdout",
     "output_type": "stream",
     "text": [
      "[ 6.  6.  6.  3.  3.  1.  4.  2.  6.  3.  6.  5.  1.  6.  4.  5.  6.  4.\n",
      "  5.  4.  2.  4.  5.  2.  6.  6.  5.  6.  5.  1.  6.  6.  5.  2.  6.  3.\n",
      "  5.  6.  6.  5.  5.  3.  6.  5.  6.  5.  6.  4.  6.  4.  2.  6.  4.  6.\n",
      "  4.  6.  2.  6.  6.  6.  6.  5.  4.  6.  4.  6.  6.  5.  5.  4.  6.  5.\n",
      "  0.  6.  6.  3.  6.  6.  6.  5.  4.  3.  6.  4.  6.  2.  5.  6.  3.  4.\n",
      "  6.  6.  0.  3.  3.  6.  5.  5.  4.  6.]\n"
     ]
    },
    {
     "data": {
      "image/png": "[encoded data removed]",
      "text/plain": [
       "<matplotlib.figure.Figure at 0x7f1684b6ec50>"
      ]
     },
     "metadata": {},
     "output_type": "display_data"
    },
    {
     "data": {
      "image/png": "[encoded data removed]",
      "text/plain": [
       "<matplotlib.figure.Figure at 0x7f1684851550>"
      ]
     },
     "metadata": {},
     "output_type": "display_data"
    }
   ],
   "source": [
    "bestGuess = lambda a,b: (b + a) // 2\n",
    "N = 100\n",
    "counter = np.zeros(N)\n",
    "for i in range(N):\n",
    "    start, end = 0, 100\n",
    "    value = randint(start, end)   \n",
    "    while True:\n",
    "        guess = bestGuess(start, end)\n",
    "        if guess == value:\n",
    "            break\n",
    "        elif guess < value:\n",
    "            start = guess\n",
    "        elif guess > value:\n",
    "            end = guess\n",
    "        counter[i] += 1\n",
    "\n",
    "print(counter)\n",
    "\n",
    "plt.plot(counter)\n",
    "plt.xlabel('Trial Number')\n",
    "plt.ylabel('Number of Attempts Needed')\n",
    "plt.axhline(np.mean(counter), color='r', label='Mean Tries')\n",
    "plt.title('Simulation of Number Guessing Game')\n",
    "plt.legend()\n",
    "\n",
    "plt.figure()\n",
    "plt.hist(counter, bins=[0,1,2,3,4,5,6,7], align='left', edgecolor='k')\n",
    "plt.xlabel('Number of Attempts Needed')\n",
    "plt.ylabel('Number of Trials')\n",
    "plt.title('Histogram of Number Guessing Game Simulation');"
   ]
  }
 ],
 "metadata": {
  "kernelspec": {
   "display_name": "Python 3",
   "language": "python",
   "name": "python3"
  },
  "language_info": {
   "codemirror_mode": {
    "name": "ipython",
    "version": 3
   },
   "file_extension": ".py",
   "mimetype": "text/x-python",
   "name": "python",
   "nbconvert_exporter": "python",
   "pygments_lexer": "ipython3",
   "version": "3.6.0"
  }
 },
 "nbformat": 4,
 "nbformat_minor": 2
}
